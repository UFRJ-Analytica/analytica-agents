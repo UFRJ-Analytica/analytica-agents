{
 "cells": [
  {
   "cell_type": "code",
   "execution_count": null,
   "id": "364e0e57",
   "metadata": {
    "vscode": {
     "languageId": "plaintext"
    }
   },
   "outputs": [],
   "source": [
    "import pandas as pd\n"
   ]
  },
  {
   "cell_type": "markdown",
   "id": "0b91eea9",
   "metadata": {},
   "source": [
    "Análise Exploratoria dos dados da Saúde"
   ]
  }
 ],
 "metadata": {
  "language_info": {
   "name": "python"
  }
 },
 "nbformat": 4,
 "nbformat_minor": 5
}
